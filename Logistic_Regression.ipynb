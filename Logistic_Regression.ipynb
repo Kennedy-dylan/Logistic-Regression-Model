{
 "cells": [
  {
   "cell_type": "markdown",
   "id": "42bb4f85",
   "metadata": {},
   "source": [
    "<h2>Logistic Regression</h2><br/>\n",
    "\n",
    "\n"
   ]
  },
  {
   "cell_type": "markdown",
   "id": "289046c2",
   "metadata": {},
   "source": [
    "<h2>1. Prerequisites</h2>"
   ]
  },
  {
   "cell_type": "markdown",
   "id": "77be09aa",
   "metadata": {},
   "source": [
    "<h3>1.1. The sigmoid function</h3><br/>\n",
    "Observe the shape of the sigmoid function:\n",
    "\n",
    "$$ \\sigma(z) = \\frac{1}{1+e^{-z}}$$"
   ]
  },
  {
   "cell_type": "code",
   "execution_count": 9,
   "id": "70acb9db",
   "metadata": {},
   "outputs": [
    {
     "data": {
      "image/png": "[encoded data removed]",
      "text/plain": [
       "<Figure size 640x480 with 1 Axes>"
      ]
     },
     "metadata": {},
     "output_type": "display_data"
    }
   ],
   "source": [
    "import numpy as np\n",
    "import matplotlib.pyplot as plt\n",
    "\n",
    "z_n = np.arange(-10,10,step=0.1)\n",
    "sig_z = 1/(1+np.exp(-z_n))\n",
    "\n",
    "plt.figure()\n",
    "plt.plot(z_n,sig_z)\n",
    "plt.xlabel('z')\n",
    "plt.ylabel('sig(z)')\n",
    "plt.show()"
   ]
  },
  {
   "cell_type": "markdown",
   "id": "b86af677",
   "metadata": {},
   "source": [
    "Note!!! The function output values $sig(z)$ are bounded between 0 and 1."
   ]
  },
  {
   "cell_type": "markdown",
   "id": "2b7143f4",
   "metadata": {},
   "source": [
    "<h3>1.2. A Probabilistic view of classification</h3>"
   ]
  },
  {
   "cell_type": "markdown",
   "id": "cc6ecea1",
   "metadata": {},
   "source": [
    "``<b>Classification is the task of choosing a value of y that maximises P(Y|X)</b>\". <br/><br/>Let's look at the datasets of 'health-diabetes' supplied in class."
   ]
  },
  {
   "cell_type": "code",
   "execution_count": 10,
   "id": "72af438f",
   "metadata": {
    "scrolled": false
   },
   "outputs": [
    {
     "data": {
      "text/html": [
       "<div>\n",
       "<style scoped>\n",
       "    .dataframe tbody tr th:only-of-type {\n",
       "        vertical-align: middle;\n",
       "    }\n",
       "\n",
       "    .dataframe tbody tr th {\n",
       "        vertical-align: top;\n",
       "    }\n",
       "\n",
       "    .dataframe thead th {\n",
       "        text-align: right;\n",
       "    }\n",
       "</style>\n",
       "<table border=\"1\" class=\"dataframe\">\n",
       "  <thead>\n",
       "    <tr style=\"text-align: right;\">\n",
       "      <th></th>\n",
       "      <th>Id</th>\n",
       "      <th>Pregnancies</th>\n",
       "      <th>Glucose</th>\n",
       "      <th>BloodPressure</th>\n",
       "      <th>SkinThickness</th>\n",
       "      <th>Insulin</th>\n",
       "      <th>BMI</th>\n",
       "      <th>DiabetesPedigreeFunction</th>\n",
       "      <th>Age</th>\n",
       "      <th>Outcome</th>\n",
       "    </tr>\n",
       "  </thead>\n",
       "  <tbody>\n",
       "    <tr>\n",
       "      <th>0</th>\n",
       "      <td>1</td>\n",
       "      <td>6</td>\n",
       "      <td>148</td>\n",
       "      <td>72</td>\n",
       "      <td>35</td>\n",
       "      <td>0</td>\n",
       "      <td>33.6</td>\n",
       "      <td>0.627</td>\n",
       "      <td>50</td>\n",
       "      <td>1</td>\n",
       "    </tr>\n",
       "    <tr>\n",
       "      <th>1</th>\n",
       "      <td>2</td>\n",
       "      <td>1</td>\n",
       "      <td>85</td>\n",
       "      <td>66</td>\n",
       "      <td>29</td>\n",
       "      <td>0</td>\n",
       "      <td>26.6</td>\n",
       "      <td>0.351</td>\n",
       "      <td>31</td>\n",
       "      <td>0</td>\n",
       "    </tr>\n",
       "    <tr>\n",
       "      <th>2</th>\n",
       "      <td>3</td>\n",
       "      <td>8</td>\n",
       "      <td>183</td>\n",
       "      <td>64</td>\n",
       "      <td>0</td>\n",
       "      <td>0</td>\n",
       "      <td>23.3</td>\n",
       "      <td>0.672</td>\n",
       "      <td>32</td>\n",
       "      <td>1</td>\n",
       "    </tr>\n",
       "    <tr>\n",
       "      <th>3</th>\n",
       "      <td>4</td>\n",
       "      <td>1</td>\n",
       "      <td>89</td>\n",
       "      <td>66</td>\n",
       "      <td>23</td>\n",
       "      <td>94</td>\n",
       "      <td>28.1</td>\n",
       "      <td>0.167</td>\n",
       "      <td>21</td>\n",
       "      <td>0</td>\n",
       "    </tr>\n",
       "    <tr>\n",
       "      <th>4</th>\n",
       "      <td>5</td>\n",
       "      <td>0</td>\n",
       "      <td>137</td>\n",
       "      <td>40</td>\n",
       "      <td>35</td>\n",
       "      <td>168</td>\n",
       "      <td>43.1</td>\n",
       "      <td>2.288</td>\n",
       "      <td>33</td>\n",
       "      <td>1</td>\n",
       "    </tr>\n",
       "  </tbody>\n",
       "</table>\n",
       "</div>"
      ],
      "text/plain": [
       "   Id  Pregnancies  Glucose  BloodPressure  SkinThickness  Insulin   BMI  \\\n",
       "0   1            6      148             72             35        0  33.6   \n",
       "1   2            1       85             66             29        0  26.6   \n",
       "2   3            8      183             64              0        0  23.3   \n",
       "3   4            1       89             66             23       94  28.1   \n",
       "4   5            0      137             40             35      168  43.1   \n",
       "\n",
       "   DiabetesPedigreeFunction  Age  Outcome  \n",
       "0                     0.627   50        1  \n",
       "1                     0.351   31        0  \n",
       "2                     0.672   32        1  \n",
       "3                     0.167   21        0  \n",
       "4                     2.288   33        1  "
      ]
     },
     "execution_count": 10,
     "metadata": {},
     "output_type": "execute_result"
    }
   ],
   "source": [
    "import pandas as pd\n",
    "\n",
    "df = pd.read_csv('Healthcare-Diabetes.csv')\n",
    "df.head()"
   ]
  },
  {
   "cell_type": "markdown",
   "id": "ad418e6f",
   "metadata": {},
   "source": [
    "Given a customer profile $x=[pregrancies=5, glucose=148, bloodPressure=72, ..., Age=43]$, what is the probability of\n",
    "\n",
    "$$P(Y=1|X=x) = ?$$"
   ]
  },
  {
   "cell_type": "markdown",
   "id": "58102cf9",
   "metadata": {},
   "source": [
    "and\n",
    "\n",
    "$$P(Y=0|X=x) = ?$$"
   ]
  },
  {
   "cell_type": "code",
   "execution_count": null,
   "id": "c6c47e8c",
   "metadata": {},
   "outputs": [],
   "source": []
  },
  {
   "cell_type": "markdown",
   "id": "73f9ffc5",
   "metadata": {},
   "source": [
    "$$P(Y=1|X=x) = 1 - P(Y=0|X=x)$$"
   ]
  },
  {
   "cell_type": "code",
   "execution_count": null,
   "id": "550bf631",
   "metadata": {},
   "outputs": [],
   "source": []
  },
  {
   "cell_type": "markdown",
   "id": "2fa954ee",
   "metadata": {},
   "source": [
    "If $P(Y=1|X=x)=0.76$ and consequently $P(Y=0|X=x)=0.24$, we will conclude that the current profile shows a strong indication that the person <b>has diabetes</b>."
   ]
  },
  {
   "cell_type": "markdown",
   "id": "b75a6c72",
   "metadata": {},
   "source": [
    "Alternatively, if $P(Y=1|X=x)=0.36$ and consequently $P(Y=0|X=x)=0.64$, we will conclude that the current profile shows a strong indication that the person <b>does not have diabetes</b>."
   ]
  },
  {
   "cell_type": "markdown",
   "id": "b26e5f68",
   "metadata": {},
   "source": [
    "So, then classification is the task of estimating the probability distribution <br/><br/> $$P(Y=1|X=x) = f(\\theta,x)$$  <br/>such that for any profile we can estimate the probability $p = P(Y=1|X=x) = f(\\theta,x) $,<br/><br/> and tells whether the class for the input feature $x$ is y=1 ($p \\geq 0.5$) or y=0 ($p < 0.5$)."
   ]
  },
  {
   "cell_type": "markdown",
   "id": "79be2d45",
   "metadata": {},
   "source": [
    "<h2>2. Logistic regression: Concept</h2>"
   ]
  },
  {
   "cell_type": "markdown",
   "id": "6e83565e",
   "metadata": {},
   "source": [
    " Logistic regression is a classification algorithm that works by trying to learn a function that approximates P(Y|X)"
   ]
  },
  {
   "cell_type": "markdown",
   "id": "f02e5e6c",
   "metadata": {},
   "source": [
    "It makes the assumption that P(Y|X) can be <b>approximated as a sigmoid function applied to a linear combination</b> of input features."
   ]
  },
  {
   "cell_type": "markdown",
   "id": "8b2f200f",
   "metadata": {},
   "source": [
    "$$ P(Y=1|X=x) = \\sigma(z), z = \\theta_0+\\sum_{i=1}^{n}\\theta_ix_i$$"
   ]
  },
  {
   "cell_type": "markdown",
   "id": "468dcf82",
   "metadata": {},
   "source": [
    "$$ P(Y=1|X=x) = \\frac{1}{1+e^{-(\\theta_0+\\theta_1x_1+\\theta_2x_2+....+\\theta_nx_n)}}$$"
   ]
  },
  {
   "cell_type": "code",
   "execution_count": 11,
   "id": "d0122dee",
   "metadata": {},
   "outputs": [
    {
     "data": {
      "image/png": "[encoded data removed]",
      "text/plain": [
       "<Figure size 640x480 with 1 Axes>"
      ]
     },
     "metadata": {},
     "output_type": "display_data"
    }
   ],
   "source": [
    "import numpy as np\n",
    "import matplotlib.pyplot as plt\n",
    "\n",
    "z_n = np.arange(-10,10,step=0.1)\n",
    "sig_z = 1/(1+np.exp(-z_n))\n",
    "\n",
    "plt.figure()\n",
    "plt.plot(z_n,sig_z)\n",
    "plt.xlabel('z')\n",
    "plt.ylabel('P(Y=1|X=x)')\n",
    "plt.title('P(Y=1|X=x)')\n",
    "plt.show()"
   ]
  },
  {
   "cell_type": "markdown",
   "id": "45daa9c2",
   "metadata": {},
   "source": [
    "Looking at the sigmoid function,\n",
    "\n",
    "$$ 0\\leq P(Y=1|X=x)\\leq 1\n",
    "$$"
   ]
  },
  {
   "cell_type": "markdown",
   "id": "7ca974b6",
   "metadata": {},
   "source": [
    "If $P(Y=1|X=x) \\geq \\text{threshold}$, the data vector belongs to class 1 otherwise, it belongs to class 0."
   ]
  },
  {
   "cell_type": "markdown",
   "id": "38941b21",
   "metadata": {},
   "source": [
    "The exact estimation of the logistic regression parameters are obtained using the <b>maximum likelihood estimation method</b> (not covered) leading to the obtention of the $\\theta$ parameters that will build the <b>logistic function</b> or <b>classification model<b/>."
   ]
  },
  {
   "cell_type": "markdown",
   "id": "f4926e4d",
   "metadata": {},
   "source": [
    "<h2>3. Python Implementation</h2>"
   ]
  },
  {
   "cell_type": "markdown",
   "id": "ef4ea5ae",
   "metadata": {},
   "source": [
    "<b>3.1. Feature/Target extraction and Data Split</b>"
   ]
  },
  {
   "cell_type": "code",
   "execution_count": 12,
   "id": "5e5987be",
   "metadata": {},
   "outputs": [],
   "source": [
    "from sklearn.model_selection import train_test_split\n",
    "\n",
    "X = df.iloc[:, 1:9]#get features\n",
    "y = df.iloc[:,[-1]]#get target variable\n",
    "\n",
    "X_train, X_test,y_train,y_test = train_test_split(X,y, test_size=0.2, random_state=1234)\n"
   ]
  },
  {
   "cell_type": "markdown",
   "id": "787e8d20",
   "metadata": {},
   "source": [
    "<b>3.2 Model Building</b>"
   ]
  },
  {
   "cell_type": "code",
   "execution_count": 13,
   "id": "599e34c2",
   "metadata": {},
   "outputs": [
    {
     "name": "stdout",
     "output_type": "stream",
     "text": [
      "Predicted_class: 1  Probability: P(Y=1|X=x)= 0.6701187233563237\n"
     ]
    }
   ],
   "source": [
    "from sklearn.linear_model import LogisticRegression\n",
    "import warnings\n",
    "warnings.filterwarnings('ignore')\n",
    "\n",
    "clf = LogisticRegression() #clf = classification\n",
    "clf.fit(X_train,y_train) #fit the data: MLE (Maximum Likelhood Estimation method)\n",
    "\n",
    "profile_x = np.array([6,148,72,35,0,33.6,0.627,50]).reshape(1,-1)\n",
    "\"\"\"\n",
    "Pregnancies=6\n",
    "Glucose=148\n",
    "BloodPressure=72\n",
    "SkinThickness=35\n",
    "Insulin=0\n",
    "BMI=33.6\n",
    "DiabetesPedigreeFunction=0.627\n",
    "Age=50\n",
    "\"\"\"\n",
    "\n",
    "predicted_class = clf.predict(profile_x)\n",
    "prob_class = clf.predict_proba(profile_x)\n",
    "\n",
    "print('Predicted_class:',predicted_class[0], ' Probability: P(Y=1|X=x)=',prob_class[0][1])"
   ]
  },
  {
   "cell_type": "markdown",
   "id": "45236ad5",
   "metadata": {},
   "source": [
    "<h2>4. Asssessing the Performance of a classification model</h2>"
   ]
  },
  {
   "cell_type": "markdown",
   "id": "6a5809a8",
   "metadata": {},
   "source": [
    "There are several metrics to verify the performance of a classification model starting with the <b>classification accuracy</b> and <b>confusion matrix<b/>."
   ]
  },
  {
   "cell_type": "markdown",
   "id": "731b2a9b",
   "metadata": {},
   "source": [
    "<h3>4.1 The confusion matrix</h3>"
   ]
  },
  {
   "cell_type": "markdown",
   "id": "8ceac5ba",
   "metadata": {},
   "source": [
    "The confusion matrix is a matrix that records the performance of a classification model on several terms."
   ]
  },
  {
   "cell_type": "markdown",
   "id": "43fbede1",
   "metadata": {},
   "source": [
    "<img src=\"media/cm.png\" width=\"500px\"/>"
   ]
  },
  {
   "cell_type": "markdown",
   "id": "a471da5e",
   "metadata": {},
   "source": [
    "<ul>\n",
    "<li>The <b>True Positive</b> is the number of data observations that had a class of 1 and that were correctly classified as 1.</li>\n",
    " <li>The <b>True Negative</b> is the number of data observations that had a class of 0 and that were correctly classified as 0.</li>\n",
    "    <li>The <b>False Positive</b> is the number of data observations that had a class of 0 and that were wrongly classified as 1.</li>\n",
    "    <li>The <b>False Negative</b> is the number of data observations that had a class of 1 and that were wrongly classified as 0.</li>\n",
    "</ul>"
   ]
  },
  {
   "cell_type": "markdown",
   "id": "53231702",
   "metadata": {},
   "source": [
    "<h3>4.2. Classification Accuracy</h3>"
   ]
  },
  {
   "cell_type": "markdown",
   "id": "63c0df0b",
   "metadata": {},
   "source": [
    "The classification accuracy is the proportion of correct predictions made by the model out of all data records.<br/><br/>\n",
    "$$\n",
    " Classification\\text{ }Accuracy = \\frac{TP+TN}{TP+TN+FP+FN}\n",
    "$$"
   ]
  },
  {
   "cell_type": "markdown",
   "id": "d2477bc5",
   "metadata": {},
   "source": [
    "<h3>4.3. Python Implementation</h3>"
   ]
  },
  {
   "cell_type": "code",
   "execution_count": 14,
   "id": "1aab7dcd",
   "metadata": {
    "scrolled": true
   },
   "outputs": [
    {
     "data": {
      "image/png": "[encoded data removed]",
      "text/plain": [
       "<Figure size 800x600 with 1 Axes>"
      ]
     },
     "metadata": {},
     "output_type": "display_data"
    },
    {
     "name": "stdout",
     "output_type": "stream",
     "text": [
      "Training-set- classification accuracy: 0.7759710930442638\n"
     ]
    }
   ],
   "source": [
    "from sklearn.metrics import confusion_matrix\n",
    "import seaborn as sns\n",
    "\n",
    "y_pred_train = clf.predict(X_train)\n",
    "\n",
    "# Create confusion matrix for the training set\n",
    "cm_train = confusion_matrix(y_train, y_pred_train)\n",
    "\n",
    "class_acc_train = (cm_train[0][0]+cm_train[1][1])/(cm_train[0][0]+cm_train[0][1]+cm_train[1][0]+cm_train[1][1])\n",
    "\n",
    "# Create heatmap - Test set\n",
    "plt.figure(figsize=(8, 6))\n",
    "sns.set(font_scale=1.2)\n",
    "sns.heatmap(cm_train, annot=True, fmt=\"d\", cmap=\"Blues\", cbar=False, square=True)\n",
    "plt.xlabel('Predicted')\n",
    "plt.ylabel('Actual')\n",
    "plt.title('Confusion Matrix - Train')\n",
    "plt.show()\n",
    "\n",
    "print('Training-set- classification accuracy:',class_acc_train)"
   ]
  },
  {
   "cell_type": "code",
   "execution_count": 15,
   "id": "778145f3",
   "metadata": {
    "scrolled": true
   },
   "outputs": [
    {
     "data": {
      "image/png": "[encoded data removed]",
      "text/plain": [
       "<Figure size 800x600 with 1 Axes>"
      ]
     },
     "metadata": {},
     "output_type": "display_data"
    },
    {
     "name": "stdout",
     "output_type": "stream",
     "text": [
      "Test-set- classification accuracy: 0.7870036101083032\n"
     ]
    }
   ],
   "source": [
    "y_pred_test = clf.predict(X_test)\n",
    "\n",
    "# Create confusion matrix for the test set\n",
    "cm_test = confusion_matrix(y_test, y_pred_test)\n",
    "\n",
    "class_acc_test = (cm_test[0][0]+cm_test[1][1])/(cm_test[0][0]+cm_test[0][1]+cm_test[1][0]+cm_test[1][1])\n",
    "\n",
    "# Create heatmap - Test set\n",
    "plt.figure(figsize=(8, 6))\n",
    "sns.set(font_scale=1.2)\n",
    "sns.heatmap(cm_train, annot=True, fmt=\"d\", cmap=\"Blues\", cbar=False, square=True)\n",
    "plt.xlabel('Predicted')\n",
    "plt.ylabel('Actual')\n",
    "plt.title('Confusion Matrix - Test')\n",
    "plt.show()\n",
    "\n",
    "print('Test-set- classification accuracy:',class_acc_test)"
   ]
  },
  {
   "cell_type": "markdown",
   "id": "e35a7362",
   "metadata": {},
   "source": [
    "<h2>5. Improving the performance of a model</h2>"
   ]
  },
  {
   "cell_type": "markdown",
   "id": "ffd2ff47",
   "metadata": {},
   "source": [
    "Tips to improve the performance of a model:\n",
    "<ul>\n",
    "    <li>Normalise or standardise your features</li>\n",
    "    <li>Perform feature selection</li>\n",
    "    <li>Hyperparameter tuning</li>\n",
    "</ul>"
   ]
  },
  {
   "cell_type": "code",
   "execution_count": null,
   "id": "ca063109",
   "metadata": {},
   "outputs": [],
   "source": []
  }
 ],
 "metadata": {
  "kernelspec": {
   "display_name": "Python 3 (ipykernel)",
   "language": "python",
   "name": "python3"
  },
  "language_info": {
   "codemirror_mode": {
    "name": "ipython",
    "version": 3
   },
   "file_extension": ".py",
   "mimetype": "text/x-python",
   "name": "python",
   "nbconvert_exporter": "python",
   "pygments_lexer": "ipython3",
   "version": "3.11.3"
  }
 },
 "nbformat": 4,
 "nbformat_minor": 5
}
